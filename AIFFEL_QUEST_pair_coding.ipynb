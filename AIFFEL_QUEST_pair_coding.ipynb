{
  "nbformat": 4,
  "nbformat_minor": 0,
  "metadata": {
    "colab": {
      "provenance": [],
      "include_colab_link": true
    },
    "kernelspec": {
      "name": "python3",
      "display_name": "Python 3"
    },
    "language_info": {
      "name": "python"
    }
  },
  "cells": [
    {
      "cell_type": "markdown",
      "metadata": {
        "id": "view-in-github",
        "colab_type": "text"
      },
      "source": [
        "<a href=\"https://colab.research.google.com/github/pinkittys/first-repository/blob/master/AIFFEL_QUEST_pair_coding.ipynb\" target=\"_parent\"><img src=\"https://colab.research.google.com/assets/colab-badge.svg\" alt=\"Open In Colab\"/></a>"
      ]
    },
    {
      "cell_type": "code",
      "execution_count": null,
      "metadata": {
        "colab": {
          "base_uri": "https://localhost:8080/"
        },
        "id": "yK1j1x-r3PVb",
        "outputId": "b414f8d1-eef7-488b-e111-4e7a70cb5fe9"
      },
      "outputs": [
        {
          "output_type": "stream",
          "name": "stdout",
          "text": [
            "hello world!\n"
          ]
        }
      ],
      "source": [
        "print('hello world!')"
      ]
    },
    {
      "cell_type": "code",
      "source": [
        "import random\n",
        "\n",
        "class Account:\n",
        "  bank_name = 'SC은행'\n",
        "  account_count = 0  # Q2. 계좌 갯수 세기\n",
        "\n",
        "  def __init__(self, owner, balance):\n",
        "    self.owner = owner\n",
        "    self.balance = balance\n",
        "    self.account_number = self.generate_account_number()\n",
        "    Account.account_count += 1 #Q3. 계좌 갯수 세기\n",
        "    self.deposit_count = 0\n",
        "    self.deposit_history_list = []\n",
        "    self.withdraw_history_list = []\n",
        "\n",
        " # Q1. 계좌번호 랜덤 생성\n",
        "  def generate_account_number(self):\n",
        "    return f\"{random.randint(100, 999)}-{random.randint(10, 99)}-{random.randint(100000, 999999)}\"\n",
        "\n",
        "  def get_account_num(self):\n",
        "    return  self.account_count\n",
        "\n",
        " # Q4. 입금\n",
        "  def deposit(self, amount):\n",
        "    if amount >= 1 :\n",
        "       self.balance += amount\n",
        "       self.deposit_count += 1\n",
        "       self.deposit_history_list.append(amount)\n",
        "    else :\n",
        "      print(\"입금은 1원 이상만 가능합니다\")\n",
        "\n",
        "\n",
        "  # Q5. 출금\n",
        "  def withdraw(self, amount):\n",
        "    if self.balance >= amount :\n",
        "       self.balance -= amount\n",
        "       self.withdraw_history_list.append(amount)\n",
        "    else :\n",
        "      print(\"잔액이 부족합니다\")\n",
        "\n",
        "\n",
        "  # Q6. 정보 출력\n",
        "  def display_info(self):\n",
        "    balance_int = f'{int(self.balance)}'\n",
        "    print(f'은행명: {Account.bank_name}, 예금주: {self.owner}, 계좌번호: {self.account_number}, 잔고: {balance_int} 원')\n",
        "\n",
        "  # Q7. 이자 추가\n",
        "  def add_interest(self):\n",
        "    if self.deposit_count %5 == 0 :\n",
        "      self.balance *= 1.01\n",
        "\n",
        "# Q8. 3개 이상 인스턴스 생성 후 리스트 저장\n",
        "account1 = Account(\"이영준\", 5000000)\n",
        "account2 = Account(\"정선아\", 10000000)\n",
        "account3 = Account(\"아이펠\", 500000)\n",
        "\n",
        "account = [account1, account2, account3]\n",
        "\n",
        "# Q9. 100만원 이상 잔액 고객 출력\n",
        "for account in account:\n",
        "  if account.balance >= 1000000:\n",
        "    account.display_info()\n",
        "\n",
        "# 입출금 내역\n",
        "\n",
        "account1.deposit(50000)\n",
        "account1.withdraw(10000)\n",
        "account2.withdraw(2000000)\n",
        "account2.deposit(1000000)\n",
        "\n",
        "# Q10. 입금 출금 내역 기록 업데이트 및 출력\n",
        "\n",
        "\n",
        "\n",
        "\n",
        "\n"
      ],
      "metadata": {
        "id": "Rf3OZy_N3ZL-",
        "colab": {
          "base_uri": "https://localhost:8080/"
        },
        "outputId": "864b1f5f-c8ab-407b-e749-1e3b0a5c6f13"
      },
      "execution_count": 13,
      "outputs": [
        {
          "output_type": "stream",
          "name": "stdout",
          "text": [
            "은행명: SC은행, 예금주: 이영준, 계좌번호: 568-90-742502, 잔고: 5000000 원\n",
            "은행명: SC은행, 예금주: 정선아, 계좌번호: 961-31-360973, 잔고: 10000000 원\n"
          ]
        }
      ]
    }
  ]
}